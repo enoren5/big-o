{
 "cells": [
  {
   "cell_type": "markdown",
   "id": "9650dc6f",
   "metadata": {},
   "source": [
    "![Time Complexity](img/time_complexity.png)"
   ]
  },
  {
   "cell_type": "markdown",
   "id": "c1515e1d",
   "metadata": {},
   "source": [
    "# Big O Basic Concepts\n",
    "Big-O notation is a programming concept which enables developers to measure the performance of an algorithm. The number of operations performed shows on the vertical y-axis and number of elements shows across the x-axis. The closer the algorithm tracks the x-axis indicates optimal performance.\n",
    "\n",
    "### O(1): Constant Time\n",
    "* Doesn't depend on the size of the data set\n",
    "* No loops\n",
    "* Example: Accessing an array element by its index or accessing a value in hashtable by its key\n",
    "### O(log n): Logarithmic Time\n",
    "* Splits the data in each step (divide and conquer)\n",
    "* Example: Binary search\n",
    "### O(n): Linear Time\n",
    "* Directly proportional to the data set size\n",
    "* Example: Looping through an array\n",
    "### O(n^2): Polynomial Time\n",
    "* Nested loops for each power of n\n",
    "* Example: Bubble sort (O(n^2))"
   ]
  },
  {
   "cell_type": "markdown",
   "id": "eaadc4e3",
   "metadata": {},
   "source": []
  },
  {
   "cell_type": "markdown",
   "id": "279fa55e-188c-4626-b5f8-93e5c1cab20b",
   "metadata": {},
   "source": [
    "### Generate a random list of unique integers and split it into two smaller lists:"
   ]
  },
  {
   "cell_type": "code",
   "execution_count": 3,
   "id": "93fa4b31-f863-4f69-8ec9-d0f79b893821",
   "metadata": {},
   "outputs": [],
   "source": [
    "import random\n",
    "\n",
    "list_size = 100000  # 100k items\n",
    "min_value = 0       # Minimum value for the random integers\n",
    "max_value = 200000  # Maximum value for the random integers (adjusted for larger range)\n",
    "\n",
    "# Make sure the range of possible values is larger than the list size:\n",
    "if max_value - min_value + 1 < list_size:\n",
    "    raise ValueError(\"Cannot generate a list of unique integers with the given range and size.\")\n",
    "\n",
    "list_with_all_unique_items = random.sample(range(min_value, max_value + 1), list_size)\n",
    "\n",
    "# Use floor division to extract integer (not float):\n",
    "middle_index = len(list_with_all_unique_items) // 2 \n",
    "\n",
    "# Next split the generated list into two smaller lists:\n",
    "list1 = list_with_all_unique_items[:middle_index]\n",
    "list2 = list_with_all_unique_items[middle_index:]"
   ]
  },
  {
   "cell_type": "markdown",
   "id": "51261f9e",
   "metadata": {},
   "source": [
    "The code snippet above ensures there are two lists with 50k items each. All the items are unique.\n",
    "\n",
    "Next we append the same single value to both lists at the very end."
   ]
  },
  {
   "cell_type": "markdown",
   "id": "120f1ba3-3477-4122-bffe-4e9f8d01a26f",
   "metadata": {},
   "source": [
    "### Append an interger as the last element to the end of both lists:"
   ]
  },
  {
   "cell_type": "code",
   "execution_count": 4,
   "id": "e48a3419-8f89-48b1-8b57-fb5932813abc",
   "metadata": {},
   "outputs": [],
   "source": [
    "list1.append(300000)\n",
    "list2.append(300000)"
   ]
  },
  {
   "cell_type": "markdown",
   "id": "db43bfbe",
   "metadata": {},
   "source": [
    "Having completed all of the above sets the preliminary context and scenario. \n",
    "\n",
    "To identify the only item held in common in both lists, there are two approaches: \n",
    "1. One for loop embedded within another for loop \n",
    "2. Using a hash table"
   ]
  },
  {
   "cell_type": "markdown",
   "id": "9ce6c0c2-a200-4549-9de3-a890e297307a",
   "metadata": {},
   "source": [
    "# #1. The naive function using two for loops:\n",
    "\n",
    "Embed a for loop within a for loop to compare each array item in the first list with each item in the second array:"
   ]
  },
  {
   "cell_type": "code",
   "execution_count": 5,
   "id": "2d2efd5d-a04c-497c-b9af-91e416e48342",
   "metadata": {},
   "outputs": [],
   "source": [
    "def item_in_common(list1, list2):\n",
    "    for i in list1:\n",
    "        for j in list2:\n",
    "            if i == j:\n",
    "                return True\n",
    "    return False"
   ]
  },
  {
   "cell_type": "markdown",
   "id": "7a2252b8-d029-4979-8baa-6afed41100d6",
   "metadata": {},
   "source": [
    "### Inititialize and test execution time:"
   ]
  },
  {
   "cell_type": "code",
   "execution_count": 13,
   "id": "ca3ee2d1",
   "metadata": {},
   "outputs": [
    {
     "name": "stdout",
     "output_type": "stream",
     "text": [
      "Execution time: 17.776 in seconds\n"
     ]
    }
   ],
   "source": [
    "import time\n",
    "start_time = time.time()\n",
    "result = item_in_common(list1,list2)\n",
    "end_time = time.time()\n",
    "execution_time = end_time - start_time\n",
    "print(f\"Execution time: {round(execution_time, 3)} in seconds\")"
   ]
  },
  {
   "cell_type": "markdown",
   "id": "42d6f1e7",
   "metadata": {},
   "source": [
    "As you can see above, it took almost 18 seconds for the Python interpreter to visit every item in both lists to arrive at the conclusion that the final two items in both arrays are held in common."
   ]
  },
  {
   "cell_type": "markdown",
   "id": "74d40a44-139a-4306-9892-821eb1c50657",
   "metadata": {},
   "source": [
    "### Run and evaluate expression:"
   ]
  },
  {
   "cell_type": "code",
   "execution_count": 14,
   "id": "419d33ca-120b-4dcf-9a83-901f44d97d6c",
   "metadata": {},
   "outputs": [],
   "source": [
    "## print(item_in_common(list1,list2))"
   ]
  },
  {
   "cell_type": "markdown",
   "id": "1dc941ee",
   "metadata": {},
   "source": [
    "When running `print(item_in_common(list1,list2))`, the script returns \"True\" as expected, confirming the final two list items are the same, but again, it takes the same ~18 seconds to arrive at that end result.\n",
    "\n",
    "Based on the diagram at the top, this approach is O(n^2) polynomial time."
   ]
  },
  {
   "cell_type": "markdown",
   "id": "7d587def",
   "metadata": {},
   "source": [
    "There is a faster algorithm to reach the same conclusion. This is the superior approach:"
   ]
  },
  {
   "cell_type": "markdown",
   "id": "17ab055c-c704-43b4-9a5e-c94da1f2311e",
   "metadata": {},
   "source": [
    "# #2. A function using a hash table (dictionary)"
   ]
  },
  {
   "cell_type": "code",
   "execution_count": 8,
   "id": "dcd913a2-92ff-4599-8e1a-f96ee5389231",
   "metadata": {},
   "outputs": [],
   "source": [
    "def item_in_common_via_dict(list1,list2):\n",
    "    my_dict= {}\n",
    "    for i in list1:\n",
    "        my_dict[i] = True\n",
    "    for j in list2:\n",
    "        if j in my_dict:\n",
    "            return True\n",
    "    return False"
   ]
  },
  {
   "cell_type": "markdown",
   "id": "9818d51f-c327-423c-96eb-fdece0d9021e",
   "metadata": {},
   "source": [
    "### Inititialize and test execution time:"
   ]
  },
  {
   "cell_type": "code",
   "execution_count": 17,
   "id": "0de1dce4-6de1-495c-845f-181f3f0085d7",
   "metadata": {},
   "outputs": [
    {
     "name": "stdout",
     "output_type": "stream",
     "text": [
      "Execution time: 0.005 in seconds\n"
     ]
    }
   ],
   "source": [
    "import time\n",
    "start_time = time.time()\n",
    "result = item_in_common_via_dict(list1,list2)\n",
    "end_time = time.time()\n",
    "execution_time = end_time - start_time\n",
    "print(f\"Execution time: {round(execution_time, 3)} in seconds\")"
   ]
  },
  {
   "cell_type": "markdown",
   "id": "3e0076e8",
   "metadata": {},
   "source": [
    "As you can see above, it takes 5 one thousandth's of a second. "
   ]
  },
  {
   "cell_type": "markdown",
   "id": "4452c76f-3113-4907-a21c-fc46b284c9fa",
   "metadata": {},
   "source": [
    "### Run and evaluate expression:"
   ]
  },
  {
   "cell_type": "code",
   "execution_count": 10,
   "id": "c23f70dd-bb79-4d88-a028-e4a941073e52",
   "metadata": {},
   "outputs": [
    {
     "name": "stdout",
     "output_type": "stream",
     "text": [
      "True\n"
     ]
    }
   ],
   "source": [
    "print(item_in_common_via_dict(list1,list2))"
   ]
  },
  {
   "cell_type": "markdown",
   "id": "b37b6bcc",
   "metadata": {},
   "source": [
    "Below is another chart, this time showing and comparing different common data structure algorithic performance. The ones showing in dark green indicate O(1) indicating best performance with yellow indicating slower performance. The point of refering to a list like this is to help the developer decide which approach to use in different contexts for optimizations purposes."
   ]
  },
  {
   "cell_type": "markdown",
   "id": "9a654b0a",
   "metadata": {},
   "source": [
    "![Common Data Structure Operations](img/common.png)"
   ]
  },
  {
   "cell_type": "markdown",
   "id": "f4555b3c",
   "metadata": {},
   "source": [
    "# There is more:"
   ]
  },
  {
   "cell_type": "markdown",
   "id": "8004329b",
   "metadata": {},
   "source": [
    "![Sorting Algorithms](img/sorting.png)"
   ]
  },
  {
   "cell_type": "code",
   "execution_count": null,
   "id": "3124ae0a",
   "metadata": {},
   "outputs": [],
   "source": []
  },
  {
   "cell_type": "code",
   "execution_count": null,
   "id": "8726f0f9",
   "metadata": {},
   "outputs": [],
   "source": []
  },
  {
   "cell_type": "code",
   "execution_count": null,
   "id": "249243f8",
   "metadata": {},
   "outputs": [],
   "source": []
  },
  {
   "cell_type": "code",
   "execution_count": 12,
   "id": "88d0e612-a271-41e6-9664-8d22c32023f5",
   "metadata": {},
   "outputs": [],
   "source": [
    "# del first_half[0]\n",
    "# del second_half[0]"
   ]
  },
  {
   "cell_type": "code",
   "execution_count": 11,
   "id": "c40f3922-96f7-4a01-8d42-950dce5271dc",
   "metadata": {},
   "outputs": [
    {
     "name": "stdout",
     "output_type": "stream",
     "text": [
      "300000\n"
     ]
    }
   ],
   "source": [
    "print(list2[-1])"
   ]
  },
  {
   "cell_type": "code",
   "execution_count": 32,
   "id": "3d7aa270-f8a7-4192-b7d3-17767c65ad0c",
   "metadata": {},
   "outputs": [
    {
     "name": "stdout",
     "output_type": "stream",
     "text": [
      "Middle item: 5\n"
     ]
    }
   ],
   "source": [
    "my_list = [1, 2, 3, 4, 5, 6, 7, 8, 9]\n",
    "list_length = len(my_list)\n",
    "\n",
    "# Using integer division (//) to find the index of the middle item\n",
    "middle_index = list_length // 2\n",
    "\n",
    "# Accessing the middle item using the calculated index\n",
    "middle_item = my_list[middle_index]\n",
    "\n",
    "print(\"Middle item:\", middle_item)"
   ]
  },
  {
   "cell_type": "code",
   "execution_count": null,
   "id": "570e4ef2-6871-4c0a-b560-2d23f27f9b9f",
   "metadata": {},
   "outputs": [],
   "source": []
  },
  {
   "cell_type": "code",
   "execution_count": null,
   "id": "bee2948b",
   "metadata": {},
   "outputs": [],
   "source": []
  },
  {
   "cell_type": "code",
   "execution_count": null,
   "id": "f6fb8090",
   "metadata": {},
   "outputs": [],
   "source": []
  }
 ],
 "metadata": {
  "kernelspec": {
   "display_name": "Python 3 (ipykernel)",
   "language": "python",
   "name": "python3"
  },
  "language_info": {
   "codemirror_mode": {
    "name": "ipython",
    "version": 3
   },
   "file_extension": ".py",
   "mimetype": "text/x-python",
   "name": "python",
   "nbconvert_exporter": "python",
   "pygments_lexer": "ipython3",
   "version": "3.11.5"
  }
 },
 "nbformat": 4,
 "nbformat_minor": 5
}
